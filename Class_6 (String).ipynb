{
 "cells": [
  {
   "cell_type": "code",
   "execution_count": null,
   "metadata": {},
   "outputs": [],
   "source": [
    "# string slicing\n",
    "a = 'Hello world this is python'\n",
    "print(a[0:5])"
   ]
  },
  {
   "cell_type": "code",
   "execution_count": null,
   "metadata": {},
   "outputs": [],
   "source": [
    "# string slicing\n",
    "a = 'Hello world this is python'\n",
    "print(a[0:5])\n",
    "print(a[5:-1])\n",
    "print(a[5:])"
   ]
  },
  {
   "cell_type": "code",
   "execution_count": null,
   "metadata": {},
   "outputs": [],
   "source": [
    "# string slicing\n",
    "a = 'Hello world this is python'\n",
    "print(a[0:5:2])"
   ]
  },
  {
   "cell_type": "code",
   "execution_count": null,
   "metadata": {},
   "outputs": [],
   "source": [
    "a = 'python'\n",
    "print(a[5:0:-1])\n",
    "print(a[5::-1])"
   ]
  },
  {
   "cell_type": "code",
   "execution_count": null,
   "metadata": {},
   "outputs": [],
   "source": [
    "# String Formatting\n",
    "\n",
    "# a = 'Apple'\n",
    "# b = 'Ball'\n",
    "# c = a + b\n",
    "\n",
    "a = 'Apple'\n",
    "b = 'Ball'\n",
    "c = f'{a} {b}'\n",
    "\n",
    "print(c)"
   ]
  },
  {
   "cell_type": "code",
   "execution_count": null,
   "metadata": {},
   "outputs": [],
   "source": [
    "name = input(\"Enter Name = \")\n",
    "age = int(input(\"Enter age = \"))\n",
    "add = input(\"Enter add = \")\n",
    "info = f\"Hello my name is {name}. I am from {add}. I am {age}\"\n",
    "\n",
    "print(info)"
   ]
  },
  {
   "cell_type": "code",
   "execution_count": null,
   "metadata": {},
   "outputs": [],
   "source": [
    "s = ''\n",
    "n = int(input('Enter n = '))\n",
    "for i in range(n):\n",
    "    name = input(\"Enter Name = \")\n",
    "    phone = int(input(\"Enter phone = \"))\n",
    "    info = f'{name}--{phone}\\n'\n",
    "    s += info\n",
    "    \n",
    "print(s)    "
   ]
  },
  {
   "cell_type": "code",
   "execution_count": null,
   "metadata": {},
   "outputs": [],
   "source": [
    "a = 'Hello my name is ram. I am from kathmandu. I am 2'\n",
    "if 'ram' in a:\n",
    "    print('yes')\n",
    "else:\n",
    "    print('NO')"
   ]
  },
  {
   "cell_type": "code",
   "execution_count": null,
   "metadata": {},
   "outputs": [],
   "source": [
    "a = 'Hello my name is ram. I am from kathmandu. I am 2'\n",
    "value = input('Enter value = ')\n",
    "if value in a:\n",
    "    print('yes')\n",
    "else:\n",
    "    print('NO')"
   ]
  },
  {
   "cell_type": "code",
   "execution_count": null,
   "metadata": {},
   "outputs": [],
   "source": [
    "print(a.upper())\n",
    "print(a.lower())"
   ]
  },
  {
   "cell_type": "code",
   "execution_count": null,
   "metadata": {},
   "outputs": [],
   "source": [
    "a = 'Hello my name is ram. I am from kathmandu. I am 2'.lower()\n",
    "value = input('Enter value = ').lower()\n",
    "if value in a:\n",
    "    print('yes', a.count(value))\n",
    "else:\n",
    "    print('NO')"
   ]
  },
  {
   "cell_type": "code",
   "execution_count": null,
   "metadata": {},
   "outputs": [],
   "source": [
    "a ='ram--34345345\\nhari--3545'\n",
    "a = a.replace('ram', 'Shyam')\n",
    "print(a)"
   ]
  },
  {
   "cell_type": "code",
   "execution_count": null,
   "metadata": {},
   "outputs": [],
   "source": [
    "a ='ram--34345345\\nhari--3545'\n",
    "a = a.replace('ram', '')\n",
    "print(a)"
   ]
  },
  {
   "cell_type": "code",
   "execution_count": null,
   "metadata": {},
   "outputs": [],
   "source": [
    "# split function\n",
    "a = \"Hello World\"\n",
    "print(a.split())"
   ]
  },
  {
   "cell_type": "code",
   "execution_count": null,
   "metadata": {},
   "outputs": [],
   "source": [
    "a ='ram--34345345\\nhari--3545'\n",
    "a = a.replace('ram', '')\n",
    "print(a.split())"
   ]
  },
  {
   "cell_type": "code",
   "execution_count": null,
   "metadata": {},
   "outputs": [],
   "source": [
    "# wAP for billing system\n",
    "# WAP for result management system"
   ]
  },
  {
   "cell_type": "code",
   "execution_count": 10,
   "metadata": {},
   "outputs": [
    {
     "name": "stdout",
     "output_type": "stream",
     "text": [
      "Enter No. of Students = 2\n",
      "Enter Name = ram\n",
      "Enter Marks of Maths = 55\n",
      "Enter Marks of English = 55\n",
      "Enter Marks of Science = 55\n",
      "Enter Marks Social = 55\n",
      "Enter Marks Computer = 55\n",
      "ram got A\n",
      "Enter Name = hari\n",
      "Enter Marks of Maths = 45\n",
      "Enter Marks of English = 45\n",
      "Enter Marks of Science = 45\n",
      "Enter Marks Social = 45\n",
      "Enter Marks Computer = 45\n",
      "hari got A\n",
      "\n",
      "\n",
      "ram-->55 55 55 55 55 = 275 = 55.00000000000001%\n",
      "hari-->45 45 45 45 45 = 225 = 45.0%\n",
      "\n",
      "Enter Roll no. = 1\n",
      "ram-->55 55 55 55 55 = 275 = 55.00000000000001%\n"
     ]
    }
   ],
   "source": [
    "s = ''\n",
    "n = int(input('Enter No. of Students = '))\n",
    "for i in range(n):\n",
    "    name = input('Enter Name = ')\n",
    "    math = int(input('Enter Marks of Maths = '))\n",
    "    english = int(input('Enter Marks of English = '))\n",
    "    science = int(input('Enter Marks of Science = '))\n",
    "    social = int(input('Enter Marks Social = '))\n",
    "    computer = int(input('Enter Marks Computer = '))\n",
    "    obtMarks = math+english+science+social+computer\n",
    "    percent = (obtMarks/500)*100\n",
    "    info = f'{name}-->{math} {english} {science} {social} {computer} = {obtMarks} = {percent}%\\n'\n",
    "    s = s + info\n",
    "data = s.split('\\n')[0:-1]    \n",
    "print('\\n')\n",
    "print(s)\n",
    "index = int(input('Enter Roll no. = '))\n",
    "print(data[index - 1])\n"
   ]
  },
  {
   "cell_type": "code",
   "execution_count": null,
   "metadata": {},
   "outputs": [],
   "source": []
  },
  {
   "cell_type": "code",
   "execution_count": null,
   "metadata": {},
   "outputs": [],
   "source": []
  },
  {
   "cell_type": "code",
   "execution_count": null,
   "metadata": {},
   "outputs": [],
   "source": []
  }
 ],
 "metadata": {
  "kernelspec": {
   "display_name": "Python 3",
   "language": "python",
   "name": "python3"
  },
  "language_info": {
   "codemirror_mode": {
    "name": "ipython",
    "version": 3
   },
   "file_extension": ".py",
   "mimetype": "text/x-python",
   "name": "python",
   "nbconvert_exporter": "python",
   "pygments_lexer": "ipython3",
   "version": "3.8.5"
  }
 },
 "nbformat": 4,
 "nbformat_minor": 4
}

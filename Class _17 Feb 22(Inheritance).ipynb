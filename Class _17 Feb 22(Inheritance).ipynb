{
 "cells": [
  {
   "cell_type": "code",
   "execution_count": 2,
   "metadata": {},
   "outputs": [
    {
     "name": "stdout",
     "output_type": "stream",
     "text": [
      "Hello I am Ram. I am 50 years old \n"
     ]
    }
   ],
   "source": [
    "class Profile:\n",
    "    def __init__(self,name,age):\n",
    "        self.n = name\n",
    "        self.a = age\n",
    "        \n",
    "class Hr(Profile):\n",
    "    def hello(self):\n",
    "        print(f'Hello I am {self.n}. I am {self.a} years old ')\n",
    "        \n",
    "obj = Hr('Ram', 50)\n",
    "obj.hello()\n",
    "    "
   ]
  },
  {
   "cell_type": "code",
   "execution_count": 3,
   "metadata": {},
   "outputs": [
    {
     "name": "stdout",
     "output_type": "stream",
     "text": [
      "Hello I am Ram. I am 50 years old \n",
      "Shyam 60\n"
     ]
    }
   ],
   "source": [
    "class Profile:\n",
    "    def __init__(self,name,age):\n",
    "        self.n = name\n",
    "        self.a = age\n",
    "        \n",
    "class Hr(Profile):\n",
    "    def hello(self):\n",
    "        print(f'Hello I am {self.n}. I am {self.a} years old ')\n",
    "        \n",
    "obj = Hr('Ram', 50)\n",
    "obj.hello()\n",
    "obj1 = Profile('Shyam', 60)\n",
    "print(obj1.n, obj1.a)\n",
    "    "
   ]
  },
  {
   "cell_type": "code",
   "execution_count": 4,
   "metadata": {},
   "outputs": [
    {
     "name": "stdout",
     "output_type": "stream",
     "text": [
      "This is class A\n",
      "This is class B\n",
      "This is class C\n"
     ]
    }
   ],
   "source": [
    "class A:    #milti level inheritance\n",
    "    print('This is class A')\n",
    "class B(A):\n",
    "    print('This is class B')\n",
    "class C(B):\n",
    "    print('This is class C')\n",
    "    \n",
    "obj = C()"
   ]
  },
  {
   "cell_type": "code",
   "execution_count": 10,
   "metadata": {},
   "outputs": [
    {
     "name": "stdout",
     "output_type": "stream",
     "text": [
      "This is class A\n"
     ]
    },
    {
     "ename": "AttributeError",
     "evalue": "'A' object has no attribute 'b'",
     "output_type": "error",
     "traceback": [
      "\u001b[1;31m---------------------------------------------------------------------------\u001b[0m",
      "\u001b[1;31mAttributeError\u001b[0m                            Traceback (most recent call last)",
      "\u001b[1;32m<ipython-input-10-55b8c17b3207>\u001b[0m in \u001b[0;36m<module>\u001b[1;34m\u001b[0m\n\u001b[0;32m     11\u001b[0m \u001b[0mobj\u001b[0m \u001b[1;33m=\u001b[0m \u001b[0mA\u001b[0m\u001b[1;33m(\u001b[0m\u001b[1;33m)\u001b[0m\u001b[1;33m\u001b[0m\u001b[1;33m\u001b[0m\u001b[0m\n\u001b[0;32m     12\u001b[0m \u001b[0mobj\u001b[0m\u001b[1;33m.\u001b[0m\u001b[0ma\u001b[0m\u001b[1;33m(\u001b[0m\u001b[1;33m)\u001b[0m\u001b[1;33m\u001b[0m\u001b[1;33m\u001b[0m\u001b[0m\n\u001b[1;32m---> 13\u001b[1;33m \u001b[0mobj\u001b[0m\u001b[1;33m.\u001b[0m\u001b[0mb\u001b[0m\u001b[1;33m(\u001b[0m\u001b[1;33m)\u001b[0m\u001b[1;33m\u001b[0m\u001b[1;33m\u001b[0m\u001b[0m\n\u001b[0m",
      "\u001b[1;31mAttributeError\u001b[0m: 'A' object has no attribute 'b'"
     ]
    }
   ],
   "source": [
    "class A:\n",
    "    def a(self):        #milti level inheritance\n",
    "        print('This is class A')\n",
    "class B(A):\n",
    "    def b(self):\n",
    "        print('This is class B')\n",
    "class C(B):\n",
    "    def c(self):\n",
    "        print('This is class C')\n",
    "    \n"
   ]
  },
  {
   "cell_type": "code",
   "execution_count": 5,
   "metadata": {},
   "outputs": [
    {
     "name": "stdout",
     "output_type": "stream",
     "text": [
      "Hello I am Ram. I am 50 years old \n",
      "Ram 50\n",
      "Shyam 60\n"
     ]
    }
   ],
   "source": [
    "class Profile:\n",
    "    def __init__(self,name,age):    # Multi level inheritance\n",
    "        self.n = name\n",
    "        self.a = age\n",
    "        \n",
    "class Office(Profile):\n",
    "    def office(self):\n",
    "        print(self.n,self.a)\n",
    "        \n",
    "class Hr(Office):\n",
    "    def hello(self):\n",
    "        print(f'Hello I am {self.n}. I am {self.a} years old ')\n",
    "        \n",
    "obj = Hr('Ram', 50)\n",
    "obj.hello()\n",
    "obj.office()\n",
    "obj1 = Profile('Shyam', 60)\n",
    "print(obj1.n, obj1.a)\n",
    "    "
   ]
  },
  {
   "cell_type": "code",
   "execution_count": 15,
   "metadata": {},
   "outputs": [
    {
     "name": "stdout",
     "output_type": "stream",
     "text": [
      "Hello I am Ram. I am 50 years old \n",
      "Ram 50\n"
     ]
    }
   ],
   "source": [
    "class Profile:\n",
    "    def __init__(self,age):    # Multi level inheritance\n",
    "        self.a = age\n",
    "        \n",
    "class Office(Profile):\n",
    "    def __init__(self,name,age):\n",
    "        self.n = name\n",
    "        Profile.__init__(self,age)\n",
    "        \n",
    "    def office(self):\n",
    "        print(self.n,self.a)\n",
    "        \n",
    "class Hr(Office):\n",
    "    def hello(self):\n",
    "        print(f'Hello I am {self.n}. I am {self.a} years old ')\n",
    "        \n",
    "obj = Hr('Ram', 50)\n",
    "obj.hello()\n",
    "obj.office()\n",
    "\n",
    "    "
   ]
  },
  {
   "cell_type": "code",
   "execution_count": 23,
   "metadata": {},
   "outputs": [
    {
     "name": "stdout",
     "output_type": "stream",
     "text": [
      "This is class A\n",
      "This is class B\n",
      "This is class C\n"
     ]
    }
   ],
   "source": [
    "class A:\n",
    "    def a(self):        #milti class inheritance\n",
    "        print('This is class A')\n",
    "class B:\n",
    "    def b(self):\n",
    "        print('This is class B')\n",
    "class C(A,B):\n",
    "    def c(self):\n",
    "        print('This is class C')\n",
    "    \n",
    "obj = C()\n",
    "obj.a()\n",
    "obj.b()\n",
    "obj.c()"
   ]
  },
  {
   "cell_type": "code",
   "execution_count": 1,
   "metadata": {},
   "outputs": [
    {
     "name": "stdout",
     "output_type": "stream",
     "text": [
      "Hello, welcome John from USA to  Nepal\n"
     ]
    }
   ],
   "source": [
    "class Profile:\n",
    "    def __init__(self, name, address):\n",
    "        self.name = name\n",
    "        self.address = address\n",
    "\n",
    "    def info(self):\n",
    "        print(self.name, self.address)\n",
    "\n",
    "class Student(Profile):\n",
    "    def __init__(self, name, address, country):\n",
    "        Profile.__init__(self, name, address)\n",
    "        self.country = country\n",
    "\n",
    "    def hello(self):\n",
    "        print(\"Hello, welcome\", self.name,\"from\", self.address, \"to \", self.country)\n",
    "\n",
    "x = Student(\"John\", \"USA\", \"Nepal\")\n",
    "x.hello()\n",
    "\n"
   ]
  },
  {
   "cell_type": "code",
   "execution_count": 1,
   "metadata": {},
   "outputs": [
    {
     "name": "stdout",
     "output_type": "stream",
     "text": [
      "Ram\n",
      "2\n"
     ]
    }
   ],
   "source": [
    "class Person:\n",
    "    #defining constructor\n",
    "    def __init__(self, personName, personAge):  \n",
    "        self.name = personName  \n",
    "        self.age = personAge  \n",
    "    #defining class methods\n",
    "    def showName(self):  \n",
    "        print(self.name)  \n",
    "    def showAge(self):  \n",
    "        print(self.age)\n",
    "        \n",
    "class Student: # Person is the  \n",
    "    def __init__(self, studentId):  \n",
    "        self.studentId = studentId  \n",
    "    def getId(self):  \n",
    "        return self.studentId\n",
    "    \n",
    "class Resident(Person, Student): # extends both Person and Student class  \n",
    "    def __init__(self, name, age, id):  \n",
    "        Person.__init__(self, name, age)  \n",
    "        Student.__init__(self, id)  \n",
    "        # Create an object of the subclass  \n",
    "resident1 = Resident('Ram', 25, '2')  \n",
    "resident1.showName()  \n",
    "print(resident1.getId()) "
   ]
  },
  {
   "cell_type": "code",
   "execution_count": 2,
   "metadata": {},
   "outputs": [
    {
     "name": "stdout",
     "output_type": "stream",
     "text": [
      "Reason\n",
      "Reason 55 Nepal\n"
     ]
    }
   ],
   "source": [
    "class Person:\n",
    "    def __init__(self,name,age):\n",
    "        self.name = name\n",
    "        self.age = age\n",
    "    def showName(self):\n",
    "        print(self.name)\n",
    "    def showAge(self):\n",
    "        print(self.age)\n",
    "        \n",
    "class Person2:\n",
    "    def __init__(self,address):\n",
    "        self.address = address\n",
    "    def addr(self):\n",
    "        return self.address\n",
    "    \n",
    "class Person3(Person,Person2):\n",
    "    def __init__(self,name,age,address):\n",
    "        Person.__init__(self,name,age)\n",
    "        Person2.__init__(self,address)\n",
    "    def person3(self):\n",
    "        print(resident.name,resident.age,resident.address)\n",
    "resident = Person3('Reason',55,'Nepal')\n",
    "resident.showName()\n",
    "resident.person3()\n",
    "\n",
    "        "
   ]
  },
  {
   "cell_type": "code",
   "execution_count": null,
   "metadata": {},
   "outputs": [],
   "source": [
    "        "
   ]
  }
 ],
 "metadata": {
  "kernelspec": {
   "display_name": "Python 3",
   "language": "python",
   "name": "python3"
  },
  "language_info": {
   "codemirror_mode": {
    "name": "ipython",
    "version": 3
   },
   "file_extension": ".py",
   "mimetype": "text/x-python",
   "name": "python",
   "nbconvert_exporter": "python",
   "pygments_lexer": "ipython3",
   "version": "3.8.5"
  }
 },
 "nbformat": 4,
 "nbformat_minor": 4
}

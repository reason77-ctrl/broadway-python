{
 "cells": [
  {
   "cell_type": "code",
   "execution_count": 1,
   "metadata": {},
   "outputs": [
    {
     "name": "stdout",
     "output_type": "stream",
     "text": [
      "hello\n",
      "hello\n",
      "hello\n",
      "hello\n",
      "hello\n"
     ]
    }
   ],
   "source": [
    "a = 0\n",
    "while a < 5:\n",
    "    print(\"hello\")\n",
    "    a += 1"
   ]
  },
  {
   "cell_type": "code",
   "execution_count": null,
   "metadata": {},
   "outputs": [],
   "source": [
    "# # Multiplication Table\n",
    "# n = int(input('Enter n = '))\n",
    "# for i in range(1, 11):\n",
    "#     print(n, '*', i, '=', n*i)\n",
    "\n",
    "# Multiplication Table\n",
    "n = int(input('Enter n = '))\n",
    "i = 1\n",
    "while i <= 10:\n",
    "    print(n, '*', i, '=', n*i)\n",
    "    i =+ 1\n",
    "    "
   ]
  },
  {
   "cell_type": "code",
   "execution_count": null,
   "metadata": {},
   "outputs": [],
   "source": [
    "# s = ''\n",
    "# n = int(input('Enter n = '))\n",
    "# for i in range(n):\n",
    "#     name = input('Enter name = ')\n",
    "#     phone = input('Enter phone ')\n",
    "#     s = s + name + ' ' + phone + '\\n'\n",
    "\n",
    "# print(s)\n",
    "\n",
    "s = ''\n",
    "n = int(input('Enter n = '))\n",
    "i = 0\n",
    "while i<n:\n",
    "    name = input('Enter name = ')\n",
    "    phone = input('Enter phone ')\n",
    "    s = s + name + ' ' + phone + '\\n'\n",
    "    i += 1\n",
    "\n",
    "print(s)    "
   ]
  },
  {
   "cell_type": "code",
   "execution_count": 2,
   "metadata": {},
   "outputs": [
    {
     "name": "stdout",
     "output_type": "stream",
     "text": [
      "Enter n = 2\n",
      "Enter name = ram\n",
      "Enter phone 344654\n",
      "Enter name = hari\n",
      "Enter phone 33535\n",
      "1 ram 344654\n",
      "2 hari 33535\n",
      "\n"
     ]
    }
   ],
   "source": [
    "s = ''\n",
    "n = int(input('Enter n = '))\n",
    "i = 1\n",
    "while i<=n:\n",
    "    name = input('Enter name = ')\n",
    "    phone = input('Enter phone ')\n",
    "    s = s + str(i) + ' ' + name + ' ' + phone + '\\n'\n",
    "    i += 1\n",
    "\n",
    "print(s)"
   ]
  },
  {
   "cell_type": "code",
   "execution_count": 3,
   "metadata": {},
   "outputs": [
    {
     "name": "stdout",
     "output_type": "stream",
     "text": [
      "Enter n = 3\n",
      "6\n"
     ]
    }
   ],
   "source": [
    "# # 4! = 1*2*3*4\n",
    "# fac = 1\n",
    "# n = int(input('Enter n = '))\n",
    "# for i in range(1, n+1):\n",
    "#     fac = fac*i\n",
    "    \n",
    "# print(fac)\n",
    "\n",
    "# 4! = 1*2*3*4\n",
    "fac = 1\n",
    "i = 1\n",
    "n = int(input('Enter n = '))\n",
    "while i <= n:\n",
    "    fac = fac*i\n",
    "    i += 1\n",
    "    \n",
    "print(fac)    "
   ]
  },
  {
   "cell_type": "code",
   "execution_count": null,
   "metadata": {},
   "outputs": [],
   "source": [
    "# Control Statements:\n",
    "#     break, continue, pass"
   ]
  },
  {
   "cell_type": "code",
   "execution_count": 6,
   "metadata": {},
   "outputs": [
    {
     "name": "stdout",
     "output_type": "stream",
     "text": [
      "H e l l o "
     ]
    }
   ],
   "source": [
    "a = 'Hello World'\n",
    "for i in a:\n",
    "    if i == ' ':\n",
    "        break\n",
    "    print(i, end = ' ')    "
   ]
  },
  {
   "cell_type": "code",
   "execution_count": 10,
   "metadata": {},
   "outputs": [
    {
     "name": "stdout",
     "output_type": "stream",
     "text": [
      "H e l l o W o r l d "
     ]
    }
   ],
   "source": [
    "a = 'Hello World'\n",
    "for i in a:\n",
    "    if i == ' ':\n",
    "        continue\n",
    "    print(i, end = ' ')    "
   ]
  },
  {
   "cell_type": "code",
   "execution_count": 8,
   "metadata": {},
   "outputs": [
    {
     "name": "stdout",
     "output_type": "stream",
     "text": [
      "5\n",
      "10\n",
      "15\n",
      "20\n",
      "25\n",
      "30\n",
      "35\n",
      "40\n",
      "45\n",
      "50\n"
     ]
    }
   ],
   "source": [
    "for i in range(1, 51):\n",
    "    if i % 5 != 0:\n",
    "        continue\n",
    "    print(i)    "
   ]
  },
  {
   "cell_type": "code",
   "execution_count": null,
   "metadata": {},
   "outputs": [],
   "source": []
  },
  {
   "cell_type": "code",
   "execution_count": null,
   "metadata": {},
   "outputs": [],
   "source": []
  }
 ],
 "metadata": {
  "kernelspec": {
   "display_name": "Python 3",
   "language": "python",
   "name": "python3"
  },
  "language_info": {
   "codemirror_mode": {
    "name": "ipython",
    "version": 3
   },
   "file_extension": ".py",
   "mimetype": "text/x-python",
   "name": "python",
   "nbconvert_exporter": "python",
   "pygments_lexer": "ipython3",
   "version": "3.8.5"
  }
 },
 "nbformat": 4,
 "nbformat_minor": 4
}

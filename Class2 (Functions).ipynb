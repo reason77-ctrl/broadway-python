{
 "cells": [
  {
   "cell_type": "code",
   "execution_count": 2,
   "metadata": {},
   "outputs": [
    {
     "name": "stdout",
     "output_type": "stream",
     "text": [
      "Enter l = 23\n",
      "Enter b = 23\n",
      "529\n"
     ]
    }
   ],
   "source": [
    "def area():\n",
    "    l = int(input(\"Enter l = \"))  # Local variable\n",
    "    b = int(input(\"Enter b = \"))\n",
    "    a = l * b\n",
    "    print(a)\n",
    "    \n",
    "area()    "
   ]
  },
  {
   "cell_type": "code",
   "execution_count": 4,
   "metadata": {},
   "outputs": [
    {
     "name": "stdout",
     "output_type": "stream",
     "text": [
      "Enter l = 5\n",
      "Enter b = 2\n",
      "10\n",
      "10\n"
     ]
    }
   ],
   "source": [
    "l = int(input(\"Enter l = \"))  # Global variable\n",
    "b = int(input(\"Enter b = \"))\n",
    "\n",
    "def area():\n",
    "    \n",
    "    global a  #changing local variable into global\n",
    "   \n",
    "    a = l * b\n",
    "    print(a)\n",
    "    \n",
    "area()\n",
    "print(a)"
   ]
  },
  {
   "cell_type": "code",
   "execution_count": null,
   "metadata": {},
   "outputs": [],
   "source": [
    "# Types of Function\n",
    "#function with no arguments and no return type\n",
    "#function with arguments and no return type\n",
    "#function with no arguments and return type\n",
    "#function with arguments and return type"
   ]
  },
  {
   "cell_type": "code",
   "execution_count": 5,
   "metadata": {},
   "outputs": [
    {
     "name": "stdout",
     "output_type": "stream",
     "text": [
      "hello World\n"
     ]
    }
   ],
   "source": [
    "def hello(x): #function with arguments and no return type\n",
    "    print(x)\n",
    "    \n",
    "hello(\"hello World\")    "
   ]
  },
  {
   "cell_type": "code",
   "execution_count": 6,
   "metadata": {},
   "outputs": [
    {
     "name": "stdout",
     "output_type": "stream",
     "text": [
      "Enter l = 23\n",
      "Enter b = 34\n",
      "782\n"
     ]
    }
   ],
   "source": [
    "def area(l,b):         #function with arguments and no return type\n",
    "    a = l*b\n",
    "    print(a)\n",
    "l = int(input(\"Enter l = \"))\n",
    "b = int(input(\"Enter b = \"))\n",
    "\n",
    "area(l,b)"
   ]
  },
  {
   "cell_type": "code",
   "execution_count": 7,
   "metadata": {},
   "outputs": [
    {
     "name": "stdout",
     "output_type": "stream",
     "text": [
      "c\n",
      "c++\n",
      "python\n"
     ]
    }
   ],
   "source": [
    "def language(lan = \"python\"):    #functions with argument and no return type\n",
    "    print(lan)\n",
    "    \n",
    "language('c')\n",
    "language('c++')\n",
    "language()\n"
   ]
  },
  {
   "cell_type": "code",
   "execution_count": 8,
   "metadata": {},
   "outputs": [
    {
     "name": "stdout",
     "output_type": "stream",
     "text": [
      "Hello world\n"
     ]
    }
   ],
   "source": [
    "#function with no arguments and return type\n",
    "\n",
    "def hello():\n",
    "    return \"Hello world\"\n",
    "\n",
    "print(hello())"
   ]
  },
  {
   "cell_type": "code",
   "execution_count": 9,
   "metadata": {},
   "outputs": [
    {
     "name": "stdout",
     "output_type": "stream",
     "text": [
      "Hello world\n"
     ]
    }
   ],
   "source": [
    "#function with no arguments and return type\n",
    "\n",
    "def hello():\n",
    "    return \"Hello world\"\n",
    "\n",
    "x = hello()\n",
    "print(x)"
   ]
  },
  {
   "cell_type": "code",
   "execution_count": 13,
   "metadata": {},
   "outputs": [
    {
     "name": "stdout",
     "output_type": "stream",
     "text": [
      "area is 2000\n",
      "20000\n"
     ]
    }
   ],
   "source": [
    "#function with no arguments and return type\n",
    "def area():\n",
    "    l = 100\n",
    "    b = 20\n",
    "    a = l*b\n",
    "    return a\n",
    "\n",
    "ar = area()\n",
    "print('area is', ar)\n",
    "h = 10\n",
    "v = ar*h\n",
    "print(v)"
   ]
  },
  {
   "cell_type": "code",
   "execution_count": 12,
   "metadata": {},
   "outputs": [
    {
     "name": "stdout",
     "output_type": "stream",
     "text": [
      "area is 2000\n",
      "20000\n"
     ]
    }
   ],
   "source": [
    "#function with arguments and return type\n",
    "def area(l,b):\n",
    "    \n",
    "    a = l*b\n",
    "    return a\n",
    "\n",
    "l = 100\n",
    "b = 20\n",
    "\n",
    "ar = area(l,b)\n",
    "print('area is', ar)\n",
    "h = 10\n",
    "v = ar*h\n",
    "print(v)"
   ]
  },
  {
   "cell_type": "code",
   "execution_count": null,
   "metadata": {},
   "outputs": [],
   "source": []
  }
 ],
 "metadata": {
  "kernelspec": {
   "display_name": "Python 3",
   "language": "python",
   "name": "python3"
  },
  "language_info": {
   "codemirror_mode": {
    "name": "ipython",
    "version": 3
   },
   "file_extension": ".py",
   "mimetype": "text/x-python",
   "name": "python",
   "nbconvert_exporter": "python",
   "pygments_lexer": "ipython3",
   "version": "3.8.5"
  }
 },
 "nbformat": 4,
 "nbformat_minor": 4
}

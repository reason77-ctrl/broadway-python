{
 "cells": [
  {
   "cell_type": "code",
   "execution_count": 1,
   "metadata": {},
   "outputs": [
    {
     "name": "stdout",
     "output_type": "stream",
     "text": [
      "Enter n = 2\n",
      "Enter name = ram\n",
      "Enter phone = 3434\n",
      "Enter name = hari\n",
      "Enter phone = 3455\n",
      "[['ram', 3434], ['hari', 3455]]\n"
     ]
    }
   ],
   "source": [
    "data = []\n",
    "n = int(input('Enter n = '))\n",
    "for i in range(n):\n",
    "    name = input('Enter name = ')\n",
    "    phone = int(input('Enter phone = '))\n",
    "    info = [name,phone]\n",
    "    data.append(info)\n",
    "print(data)    "
   ]
  },
  {
   "cell_type": "code",
   "execution_count": 1,
   "metadata": {},
   "outputs": [
    {
     "name": "stdout",
     "output_type": "stream",
     "text": [
      "[[], [], [], []]\n",
      "<class 'list'>\n",
      "4\n"
     ]
    }
   ],
   "source": [
    "a = [[],[],[],[]]\n",
    "print(a)\n",
    "print(type(a))\n",
    "print(len(a))"
   ]
  },
  {
   "cell_type": "code",
   "execution_count": 2,
   "metadata": {},
   "outputs": [
    {
     "name": "stdout",
     "output_type": "stream",
     "text": [
      "Enter n = 2\n",
      "Enter name = x\n",
      "Enter price = 34\n",
      "Enter quantity = 2\n",
      "Enter name = y\n",
      "Enter price = 45\n",
      "Enter quantity = 2\n",
      "The billing is =\n",
      " [['x', 34, 2, 68], ['y', 45, 2, 90]]\n",
      "The total = Rs. 158\n"
     ]
    }
   ],
   "source": [
    "s = []\n",
    "all_total = 0\n",
    "n = int(input(\"Enter n = \"))\n",
    "for i in range(n):\n",
    "    product = input(\"Enter name = \")\n",
    "    price = int(input(\"Enter price = \"))\n",
    "    quantity = int(input(\"Enter quantity = \"))\n",
    "    total = price*quantity\n",
    "    data = [[product,price,quantity,total]]\n",
    "    all_total = all_total+total\n",
    "    s = s+data\n",
    "\n",
    "print(\"The billing is =\\n\", s)\n",
    "print(\"The total = Rs.\",all_total)"
   ]
  },
  {
   "cell_type": "code",
   "execution_count": 3,
   "metadata": {},
   "outputs": [
    {
     "name": "stdout",
     "output_type": "stream",
     "text": [
      "Enter name = x\n",
      "['x', 34, 2, 68]\n"
     ]
    }
   ],
   "source": [
    "a = [['x', 34, 2, 68], ['y', 45, 2, 90]]\n",
    "name = input(\"Enter name = \")\n",
    "for i in a:\n",
    "    if name.lower() in i[0].lower():\n",
    "        print(i)"
   ]
  },
  {
   "cell_type": "code",
   "execution_count": 10,
   "metadata": {},
   "outputs": [
    {
     "name": "stdout",
     "output_type": "stream",
     "text": [
      "Enter name = milk\n",
      "Enter price = 200\n",
      "Enter quantity = 2\n",
      "[['x', 34, 2, 68], ['y', 45, 2, 90], ['milk', 200, 2, 400]]\n"
     ]
    }
   ],
   "source": [
    "product = input('Enter name = ')\n",
    "price = int(input('Enter price = '))\n",
    "quantity = int(input('Enter quantity = '))\n",
    "total = price * quantity\n",
    "a = [['x', 34, 2, 68], ['y', 45, 2, 90]]\n",
    "a.append([product,price,quantity,total])\n",
    "print(a)"
   ]
  },
  {
   "cell_type": "code",
   "execution_count": 11,
   "metadata": {},
   "outputs": [
    {
     "name": "stdout",
     "output_type": "stream",
     "text": [
      "Enter n = 3\n",
      "Enter name = x\n",
      "Enter price = 100\n",
      "Enter quantity = 2\n",
      "Enter name = y\n",
      "Enter price = 200\n",
      "Enter quantity = 3\n",
      "Enter name = z\n",
      "Enter price = 300\n",
      "Enter quantity = 3\n",
      "The billing is =\n",
      " [['x', 100, 2, 200], ['y', 200, 3, 600], ['z', 300, 3, 900]]\n",
      "The total = Rs. 1700\n"
     ]
    }
   ],
   "source": [
    "s = []\n",
    "all_total = 0\n",
    "n = int(input(\"Enter n = \"))\n",
    "for i in range(n):\n",
    "    product = input(\"Enter name = \")\n",
    "    price = int(input(\"Enter price = \"))\n",
    "    quantity = int(input(\"Enter quantity = \"))\n",
    "    total = price*quantity\n",
    "    data = [[product,price,quantity,total]]\n",
    "    all_total = all_total+total\n",
    "    s = s+data\n",
    "\n",
    "print(\"The billing is =\\n\", s)\n",
    "print(\"The total = Rs.\",all_total)"
   ]
  },
  {
   "cell_type": "code",
   "execution_count": 14,
   "metadata": {},
   "outputs": [
    {
     "name": "stdout",
     "output_type": "stream",
     "text": [
      "[['x', 100, 2, 200], ['y', 200, 3, 600]]\n"
     ]
    }
   ],
   "source": [
    "del s[2]\n",
    "print(s)"
   ]
  },
  {
   "cell_type": "code",
   "execution_count": 15,
   "metadata": {},
   "outputs": [
    {
     "name": "stdout",
     "output_type": "stream",
     "text": [
      "800\n"
     ]
    }
   ],
   "source": [
    "total = 0\n",
    "for i in s:\n",
    "    x = i[3]\n",
    "    total = total + x\n",
    "print(total)    "
   ]
  },
  {
   "cell_type": "code",
   "execution_count": 19,
   "metadata": {},
   "outputs": [
    {
     "name": "stdout",
     "output_type": "stream",
     "text": [
      "Enter index = 0\n",
      "Enter quantity = 3\n",
      "[['x', 100, 3, 300], ['y', 200, 3, 600], ['z', 300, 3, 900]]\n",
      "All Total =  1800\n"
     ]
    }
   ],
   "source": [
    "s = [['x', 100, 2, 200], ['y', 200, 3, 600], ['z', 300, 3, 900]]\n",
    "index = int(input('Enter index = '))\n",
    "quantity = int(input('Enter quantity = '))\n",
    "total = s[index][1]*quantity\n",
    "s[index][2] = quantity\n",
    "s[index][3] = total\n",
    "all_total = 0\n",
    "for i in s:\n",
    "    x = i[3]\n",
    "    all_total = all_total + x\n",
    "print(s)\n",
    "print('All Total = ',all_total)\n"
   ]
  },
  {
   "cell_type": "code",
   "execution_count": null,
   "metadata": {},
   "outputs": [],
   "source": []
  },
  {
   "cell_type": "code",
   "execution_count": null,
   "metadata": {},
   "outputs": [],
   "source": []
  }
 ],
 "metadata": {
  "kernelspec": {
   "display_name": "Python 3",
   "language": "python",
   "name": "python3"
  },
  "language_info": {
   "codemirror_mode": {
    "name": "ipython",
    "version": 3
   },
   "file_extension": ".py",
   "mimetype": "text/x-python",
   "name": "python",
   "nbconvert_exporter": "python",
   "pygments_lexer": "ipython3",
   "version": "3.8.5"
  }
 },
 "nbformat": 4,
 "nbformat_minor": 4
}

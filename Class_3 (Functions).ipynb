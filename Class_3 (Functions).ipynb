{
 "cells": [
  {
   "cell_type": "code",
   "execution_count": null,
   "metadata": {},
   "outputs": [],
   "source": [
    "# Function with argument and return type\n",
    "\n",
    "def area(l,b):\n",
    "    a = l*b\n",
    "    return a\n",
    "\n",
    "def volume(l,b,h):\n",
    "    v = area(l,b)* h\n",
    "\n",
    "l = 10\n",
    "b = 5\n",
    "h = 10\n",
    "\n",
    "print(area(l,b))\n",
    "volume(l,b,h)"
   ]
  },
  {
   "cell_type": "code",
   "execution_count": null,
   "metadata": {},
   "outputs": [],
   "source": [
    "# Recursive Funtion\n",
    "\n",
    "def hello():\n",
    "    print('Hello world')\n",
    "    hello()\n",
    "\n",
    "hello()    "
   ]
  },
  {
   "cell_type": "code",
   "execution_count": null,
   "metadata": {},
   "outputs": [
    {
     "name": "stdout",
     "output_type": "stream",
     "text": [
      "Hello world\n",
      "Enter y for more point = y\n",
      "Hello world\n",
      "Enter y for more point = y\n",
      "Hello world\n",
      "Enter y for more point = y\n",
      "Hello world\n",
      "Enter y for more point = y\n",
      "Hello world\n",
      "Enter y for more point = y\n",
      "Hello world\n"
     ]
    }
   ],
   "source": [
    "def hello():\n",
    "    print('Hello world')\n",
    "    x = input('Enter y for more point = ')\n",
    "    if x == 'y':\n",
    "        hello()\n",
    "\n",
    "hello()    "
   ]
  },
  {
   "cell_type": "code",
   "execution_count": null,
   "metadata": {},
   "outputs": [
    {
     "name": "stdout",
     "output_type": "stream",
     "text": [
      "Enter p = 25\n",
      "Enter t = 3\n",
      "Enter r = 45\n",
      "33.75\n",
      "Enter y for more point = y\n",
      "Enter p = 34\n",
      "Enter t = 5\n",
      "Enter r = 5\n",
      "8.5\n"
     ]
    }
   ],
   "source": [
    "def hello():\n",
    "    p = float(input('Enter p = '))\n",
    "    t = float(input('Enter t = '))\n",
    "    r = float(input('Enter r = '))\n",
    "    i = p*t*r/100\n",
    "    print(i)\n",
    "    x = input('Enter y for more point = ')\n",
    "    if x == 'y':\n",
    "        hello()\n",
    "\n",
    "hello()    "
   ]
  },
  {
   "cell_type": "code",
   "execution_count": null,
   "metadata": {},
   "outputs": [],
   "source": []
  },
  {
   "cell_type": "code",
   "execution_count": null,
   "metadata": {},
   "outputs": [],
   "source": [
    "# Math Function\n",
    "\n",
    "import math as m\n",
    "print(m.pi)"
   ]
  },
  {
   "cell_type": "code",
   "execution_count": 1,
   "metadata": {},
   "outputs": [
    {
     "name": "stdout",
     "output_type": "stream",
     "text": [
      "Enter r = 5\n",
      "area =  78.53981633974483\n"
     ]
    }
   ],
   "source": [
    "#area of circle\n",
    "import math as m\n",
    "r = int(input('Enter r = '))\n",
    "a = m.pi*m.pow(r,2)\n",
    "print('area = ',a)"
   ]
  },
  {
   "cell_type": "code",
   "execution_count": null,
   "metadata": {},
   "outputs": [],
   "source": [
    "import math as m\n",
    "a = m.pi/2\n",
    "print(m.sin(a))"
   ]
  },
  {
   "cell_type": "code",
   "execution_count": null,
   "metadata": {},
   "outputs": [],
   "source": [
    "\n",
    "import math as m\n",
    "a = m.sin(m.pi/2)\n",
    "b = m.cos(m.pi/2)\n",
    "c = m.pow(a,2) + m.pow(b,2)\n",
    "\n",
    "print(c)"
   ]
  },
  {
   "cell_type": "code",
   "execution_count": null,
   "metadata": {},
   "outputs": [],
   "source": []
  }
 ],
 "metadata": {
  "kernelspec": {
   "display_name": "Python 3",
   "language": "python",
   "name": "python3"
  },
  "language_info": {
   "codemirror_mode": {
    "name": "ipython",
    "version": 3
   },
   "file_extension": ".py",
   "mimetype": "text/x-python",
   "name": "python",
   "nbconvert_exporter": "python",
   "pygments_lexer": "ipython3",
   "version": "3.8.5"
  }
 },
 "nbformat": 4,
 "nbformat_minor": 4
}

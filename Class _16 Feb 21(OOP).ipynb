{
 "cells": [
  {
   "cell_type": "code",
   "execution_count": null,
   "metadata": {},
   "outputs": [],
   "source": [
    "class Hello:\n",
    "    pass\n",
    "obj = Hello()"
   ]
  },
  {
   "cell_type": "code",
   "execution_count": 1,
   "metadata": {},
   "outputs": [
    {
     "name": "stdout",
     "output_type": "stream",
     "text": [
      "Hello World\n"
     ]
    }
   ],
   "source": [
    "class Hello:\n",
    "    print('Hello World')\n",
    "obj = Hello()"
   ]
  },
  {
   "cell_type": "code",
   "execution_count": 4,
   "metadata": {},
   "outputs": [
    {
     "name": "stdout",
     "output_type": "stream",
     "text": [
      "HELLO\n"
     ]
    }
   ],
   "source": [
    "class Hello:   #object\n",
    "    def hello(self):    #method\n",
    "        print('HELLO')\n",
    "obj = Hello()\n",
    "obj.hello()"
   ]
  },
  {
   "cell_type": "code",
   "execution_count": 5,
   "metadata": {},
   "outputs": [
    {
     "name": "stdout",
     "output_type": "stream",
     "text": [
      "HELLO\n"
     ]
    }
   ],
   "source": [
    "class Hello:   #object\n",
    "    def hello(x):    #method\n",
    "        print('HELLO')\n",
    "obj = Hello()\n",
    "obj.hello()"
   ]
  },
  {
   "cell_type": "code",
   "execution_count": 6,
   "metadata": {},
   "outputs": [
    {
     "name": "stdout",
     "output_type": "stream",
     "text": [
      "Apple\n"
     ]
    }
   ],
   "source": [
    "class Hello:   #object\n",
    "    def hello(self,x):    #method\n",
    "        print(x)\n",
    "obj = Hello()\n",
    "obj.hello('Apple')"
   ]
  },
  {
   "cell_type": "code",
   "execution_count": 1,
   "metadata": {},
   "outputs": [
    {
     "name": "stdout",
     "output_type": "stream",
     "text": [
      "Enter l = 5\n",
      "Enter b = 4\n",
      "Enter h = 6\n",
      "The area =  20\n",
      "The volume =  120\n"
     ]
    }
   ],
   "source": [
    "class Cal:\n",
    "    def area(self,l,b):\n",
    "        a = l*b\n",
    "        print('The area = ',a)\n",
    "    def volume(self,l,b,h):\n",
    "        v = l*b*h\n",
    "        print('The volume = ',v)\n",
    "obj = Cal()\n",
    "l = int(input('Enter l = '))\n",
    "b = int(input('Enter b = '))\n",
    "h = int(input('Enter h = '))\n",
    "obj.area(l,b)\n",
    "obj.volume(l,b,h)"
   ]
  },
  {
   "cell_type": "code",
   "execution_count": 2,
   "metadata": {},
   "outputs": [
    {
     "name": "stdout",
     "output_type": "stream",
     "text": [
      "Enter l = 5\n",
      "Enter b = 7\n",
      "Enter h = 3\n",
      "The area =  35\n",
      "The volume =  105\n"
     ]
    }
   ],
   "source": [
    "class Area:\n",
    "    def area(self,l,b):\n",
    "        a = l*b\n",
    "        print('The area = ',a)\n",
    "class Volume:\n",
    "    def volume(self,l,b,h):\n",
    "        v = l*b*h\n",
    "        print('The volume = ',v)\n",
    "obj = Area()\n",
    "obj1 = Volume()\n",
    "l = int(input('Enter l = '))\n",
    "b = int(input('Enter b = '))\n",
    "h = int(input('Enter h = '))\n",
    "obj.area(l,b)\n",
    "obj1.volume(l,b,h)"
   ]
  },
  {
   "cell_type": "code",
   "execution_count": 7,
   "metadata": {},
   "outputs": [
    {
     "name": "stdout",
     "output_type": "stream",
     "text": [
      "Enter l = 34\n",
      "Enter b = 45\n",
      "Enter h = 56\n",
      "The area =  1530\n",
      "The volume =  85680\n"
     ]
    }
   ],
   "source": [
    "class Cal:\n",
    "    def __init__(self,l,b,h):\n",
    "        self.x = l\n",
    "        self.y = b\n",
    "        self.z = h\n",
    "    def area(self):\n",
    "        a = self.x*self.y\n",
    "        print('The area = ',a)\n",
    "    def volume(this):\n",
    "        v = this.x*this.y*this.z\n",
    "        print('The volume = ',v)\n",
    "l = int(input('Enter l = '))\n",
    "b = int(input('Enter b = '))\n",
    "h = int(input('Enter h = '))\n",
    "\n",
    "obj = Cal(l,b,h)\n",
    "obj.area()\n",
    "obj.volume()"
   ]
  },
  {
   "cell_type": "code",
   "execution_count": 9,
   "metadata": {},
   "outputs": [
    {
     "name": "stdout",
     "output_type": "stream",
     "text": [
      "Enter l = 34\n",
      "Enter b = 45\n",
      "Enter h = 56\n",
      "The area =  1530\n",
      "The volume =  85680\n"
     ]
    }
   ],
   "source": [
    "class Cal:\n",
    "    def __init__(self,l,b):\n",
    "        self.x = l\n",
    "        self.y = b\n",
    "        \n",
    "    def area(self):\n",
    "        a = self.x*self.y\n",
    "        print('The area = ',a)\n",
    "    def volume(this,z):\n",
    "        v = this.x*this.y* z\n",
    "        print('The volume = ',v)\n",
    "l = int(input('Enter l = '))\n",
    "b = int(input('Enter b = '))\n",
    "h = int(input('Enter h = '))\n",
    "\n",
    "obj = Cal(l,b)\n",
    "obj.area()\n",
    "obj.volume(h)"
   ]
  },
  {
   "cell_type": "code",
   "execution_count": 11,
   "metadata": {},
   "outputs": [
    {
     "name": "stdout",
     "output_type": "stream",
     "text": [
      "Enter l = 3\n",
      "Enter b = 45\n",
      "Enter h = 56\n",
      "The area =  135\n",
      "The volume =  7560\n"
     ]
    }
   ],
   "source": [
    "class Area:\n",
    "    def __init__(self,l,b):     #constructor\n",
    "        self.x = l\n",
    "        self.y = b\n",
    "        \n",
    "    def area(self):     #methods\n",
    "        a = self.x*self.y\n",
    "        print('The area = ',a)\n",
    "class Volume:\n",
    "    def __init__(self,l,b,h):\n",
    "        self.x = l\n",
    "        self.y = b\n",
    "        self.z = h\n",
    "    def volume(this,z):\n",
    "        v = this.x*this.y* z\n",
    "        print('The volume = ',v)\n",
    "l = int(input('Enter l = '))\n",
    "b = int(input('Enter b = '))\n",
    "h = int(input('Enter h = '))\n",
    "\n",
    "obj = Area(l,b)\n",
    "obj1 = Volume(l,b,h)      #objects\n",
    "obj.area()\n",
    "obj1.volume(h)"
   ]
  },
  {
   "cell_type": "code",
   "execution_count": 12,
   "metadata": {},
   "outputs": [
    {
     "name": "stdout",
     "output_type": "stream",
     "text": [
      "Ram\n"
     ]
    }
   ],
   "source": [
    "class Info:\n",
    "    def __init__(self,name,age,address):\n",
    "        self.n = name\n",
    "        self.a = age     \n",
    "        self.b = address\n",
    "    def __str__(self):\n",
    "        return self.n\n",
    "name = 'Ram'\n",
    "age = 50\n",
    "address = 'Kathmandu'\n",
    "obj = Info(name,age,address)   #object\n",
    "print(obj)"
   ]
  },
  {
   "cell_type": "code",
   "execution_count": 20,
   "metadata": {},
   "outputs": [
    {
     "name": "stdout",
     "output_type": "stream",
     "text": [
      "Ram 50 Kathmandu\n"
     ]
    }
   ],
   "source": [
    "class Info:\n",
    "    def __init__(self,name,age,address):\n",
    "        self.n = name\n",
    "        self.a = age     \n",
    "        self.b = address\n",
    "    def __str__(self):\n",
    "        return f'{self.n} {self.a} {self.b}'\n",
    "name = 'Ram'\n",
    "age = 50\n",
    "address = 'Kathmandu'\n",
    "obj = Info(name,age,address)    #objects\n",
    "# print(obj)\n",
    "print(obj.__str__())"
   ]
  },
  {
   "cell_type": "code",
   "execution_count": 18,
   "metadata": {},
   "outputs": [
    {
     "name": "stdout",
     "output_type": "stream",
     "text": [
      "{'Name': 'Ram', 'Age': 50, 'Address': 'Kathmandu'}\n"
     ]
    }
   ],
   "source": [
    "class Info:\n",
    "    def __init__(self,name,age,address):\n",
    "        self.n = name\n",
    "        self.a = age    \n",
    "        self.b = address\n",
    "    def __repr__(self):\n",
    "        return {'Name':self.n, 'Age':self.a, 'Address':self.b}\n",
    "name = 'Ram'\n",
    "age = 50\n",
    "address = 'Kathmandu'\n",
    "obj = Info(name,age,address)      #objects\n",
    "print(obj.__repr__())"
   ]
  },
  {
   "cell_type": "code",
   "execution_count": null,
   "metadata": {},
   "outputs": [],
   "source": [
    " "
   ]
  }
 ],
 "metadata": {
  "kernelspec": {
   "display_name": "Python 3",
   "language": "python",
   "name": "python3"
  },
  "language_info": {
   "codemirror_mode": {
    "name": "ipython",
    "version": 3
   },
   "file_extension": ".py",
   "mimetype": "text/x-python",
   "name": "python",
   "nbconvert_exporter": "python",
   "pygments_lexer": "ipython3",
   "version": "3.8.5"
  }
 },
 "nbformat": 4,
 "nbformat_minor": 4
}

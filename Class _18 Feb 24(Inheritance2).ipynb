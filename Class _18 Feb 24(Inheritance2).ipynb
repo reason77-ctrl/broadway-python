{
 "cells": [
  {
   "cell_type": "code",
   "execution_count": 1,
   "metadata": {},
   "outputs": [
    {
     "name": "stdout",
     "output_type": "stream",
     "text": [
      "Ram\n",
      "50\n",
      "Kathmandu\n"
     ]
    }
   ],
   "source": [
    "# public members\n",
    "class Info:\n",
    "    def __init__(self,name,age,address):\n",
    "        self.name = name\n",
    "        self.age = age\n",
    "        self.address = address\n",
    "        \n",
    "obj = Info('Ram',50,'Kathmandu')\n",
    "print(obj.name)\n",
    "print(obj.age)\n",
    "print(obj.address)"
   ]
  },
  {
   "cell_type": "code",
   "execution_count": 1,
   "metadata": {},
   "outputs": [
    {
     "name": "stdout",
     "output_type": "stream",
     "text": [
      "Ram\n",
      "50\n",
      "Kathmandu\n"
     ]
    }
   ],
   "source": [
    "# protected members\n",
    "class Info:\n",
    "    def __init__(self,name,age,address):\n",
    "        self._name = name\n",
    "        self._age = age\n",
    "        self._address = address\n",
    "        \n",
    "obj = Info('Ram',50,'Kathmandu')\n",
    "print(obj._name)\n",
    "print(obj._age)\n",
    "print(obj._address)"
   ]
  },
  {
   "cell_type": "code",
   "execution_count": 5,
   "metadata": {},
   "outputs": [
    {
     "ename": "AttributeError",
     "evalue": "'Info' object has no attribute 'name'",
     "output_type": "error",
     "traceback": [
      "\u001b[1;31m---------------------------------------------------------------------------\u001b[0m",
      "\u001b[1;31mAttributeError\u001b[0m                            Traceback (most recent call last)",
      "\u001b[1;32m<ipython-input-5-22659701ac4e>\u001b[0m in \u001b[0;36m<module>\u001b[1;34m\u001b[0m\n\u001b[0;32m      7\u001b[0m \u001b[1;33m\u001b[0m\u001b[0m\n\u001b[0;32m      8\u001b[0m \u001b[0mobj\u001b[0m \u001b[1;33m=\u001b[0m \u001b[0mInfo\u001b[0m\u001b[1;33m(\u001b[0m\u001b[1;34m'Ram'\u001b[0m\u001b[1;33m,\u001b[0m\u001b[1;36m50\u001b[0m\u001b[1;33m,\u001b[0m\u001b[1;34m'Kathmandu'\u001b[0m\u001b[1;33m)\u001b[0m\u001b[1;33m\u001b[0m\u001b[1;33m\u001b[0m\u001b[0m\n\u001b[1;32m----> 9\u001b[1;33m \u001b[0mprint\u001b[0m\u001b[1;33m(\u001b[0m\u001b[0mobj\u001b[0m\u001b[1;33m.\u001b[0m\u001b[0mname\u001b[0m\u001b[1;33m)\u001b[0m\u001b[1;33m\u001b[0m\u001b[1;33m\u001b[0m\u001b[0m\n\u001b[0m\u001b[0;32m     10\u001b[0m \u001b[0mprint\u001b[0m\u001b[1;33m(\u001b[0m\u001b[0mobj\u001b[0m\u001b[1;33m.\u001b[0m\u001b[0mage\u001b[0m\u001b[1;33m)\u001b[0m\u001b[1;33m\u001b[0m\u001b[1;33m\u001b[0m\u001b[0m\n\u001b[0;32m     11\u001b[0m \u001b[0mprint\u001b[0m\u001b[1;33m(\u001b[0m\u001b[0mobj\u001b[0m\u001b[1;33m.\u001b[0m\u001b[0maddress\u001b[0m\u001b[1;33m)\u001b[0m\u001b[1;33m\u001b[0m\u001b[1;33m\u001b[0m\u001b[0m\n",
      "\u001b[1;31mAttributeError\u001b[0m: 'Info' object has no attribute 'name'"
     ]
    }
   ],
   "source": [
    "# private members\n",
    "class Info:\n",
    "    def __init__(self,name,age,address):\n",
    "        self.__name = name\n",
    "        self.__age = age\n",
    "        self.__address = address\n",
    "        \n",
    "obj = Info('Ram',50,'Kathmandu')\n",
    "print(obj.name)\n",
    "print(obj.age)\n",
    "print(obj.address)"
   ]
  },
  {
   "cell_type": "code",
   "execution_count": 7,
   "metadata": {},
   "outputs": [
    {
     "name": "stdout",
     "output_type": "stream",
     "text": [
      "Ram\n",
      "50\n",
      "Kathmandu\n"
     ]
    }
   ],
   "source": [
    "# private members\n",
    "class Info:\n",
    "    def __init__(self,name,age,address):\n",
    "        self.__name = name\n",
    "        self.__age = age\n",
    "        self.__address = address\n",
    "        \n",
    "obj = Info('Ram',50,'Kathmandu')\n",
    "print(obj._Info__name)\n",
    "print(obj._Info__age)\n",
    "print(obj._Info__address)    #name membering"
   ]
  },
  {
   "cell_type": "code",
   "execution_count": 11,
   "metadata": {},
   "outputs": [
    {
     "name": "stdout",
     "output_type": "stream",
     "text": [
      "Hello I am Ram. I am 50 years old \n",
      "Ram 50\n"
     ]
    }
   ],
   "source": [
    "class Profile:\n",
    "    def __init__(self,name,age):    # Multi level inheritance\n",
    "        self._n = name\n",
    "        self.__a = age\n",
    "        \n",
    "class Office(Profile):\n",
    "    def office(self):\n",
    "        print(self._n,self._Profile__a)\n",
    "        \n",
    "class Hr(Office):\n",
    "    def hello(self):\n",
    "        print(f'Hello I am {self._n}. I am {self._Profile__a} years old ')\n",
    "        \n",
    "obj = Hr('Ram', 50)\n",
    "obj.hello()\n",
    "obj.office()\n",
    "\n",
    "    "
   ]
  },
  {
   "cell_type": "code",
   "execution_count": 14,
   "metadata": {},
   "outputs": [
    {
     "name": "stdout",
     "output_type": "stream",
     "text": [
      "Hello I am Ram. I am 50 years old \n",
      "Ram 50\n"
     ]
    }
   ],
   "source": [
    "class Profile:\n",
    "    def __init__(self,name,age):    # Multi level inheritance\n",
    "        self._n = name\n",
    "        self.__a = age\n",
    "    def ages(self):\n",
    "        return self.__a\n",
    "        \n",
    "class Office(Profile):\n",
    "    def office(self):\n",
    "        print(self._n,self._Profile__a)\n",
    "        \n",
    "class Hr(Office):\n",
    "    def hello(self):\n",
    "        print(f'Hello I am {self._n}. I am {super().ages()} years old ')\n",
    "        \n",
    "obj = Hr('Ram', 50)\n",
    "obj.hello()\n",
    "obj.office()\n",
    "\n",
    "    "
   ]
  },
  {
   "cell_type": "code",
   "execution_count": 15,
   "metadata": {},
   "outputs": [
    {
     "name": "stdout",
     "output_type": "stream",
     "text": [
      "Hello I am Ram. I am 50 years old \n",
      "Ram 50\n",
      "50\n"
     ]
    }
   ],
   "source": [
    "class Profile:\n",
    "    def __init__(self,name,age):    # Multi level inheritance\n",
    "        self._n = name\n",
    "        self.__a = age\n",
    "    def ages(self):\n",
    "        return self.__a\n",
    "        \n",
    "class Office(Profile):\n",
    "    def office(self):\n",
    "        print(self._n,self._Profile__a)\n",
    "        print(super().ages())\n",
    "        \n",
    "class Hr(Office):\n",
    "    def hello(self):\n",
    "        print(f'Hello I am {self._n}. I am {super().ages()} years old ')\n",
    "        \n",
    "obj = Hr('Ram', 50)\n",
    "obj.hello()\n",
    "obj.office()\n",
    "\n",
    "    "
   ]
  },
  {
   "cell_type": "code",
   "execution_count": 41,
   "metadata": {},
   "outputs": [
    {
     "name": "stdout",
     "output_type": "stream",
     "text": [
      "Hello, welcome John from USA to  Nepal\n",
      "John USA\n",
      "Nepal\n"
     ]
    }
   ],
   "source": [
    "class Profile:\n",
    "    def __init__(self, name, address):\n",
    "        self.name = name\n",
    "        self.address = address\n",
    "\n",
    "    def info(self):\n",
    "        print(self.name, self.address)\n",
    "        print(self._Student__country)\n",
    "\n",
    "class Student(Profile):\n",
    "    def __init__(self, name, address, country):\n",
    "        Profile.__init__(self, name, address)\n",
    "        self.__country = country\n",
    "\n",
    "    def hello(self):\n",
    "        print(\"Hello, welcome\", self.name,\"from\", self.address, \"to \", self.__country)\n",
    "\n",
    "x = Student(\"John\", \"USA\", \"Nepal\")\n",
    "x.hello()\n",
    "x.info()\n",
    "\n"
   ]
  },
  {
   "cell_type": "code",
   "execution_count": 45,
   "metadata": {},
   "outputs": [
    {
     "ename": "TypeError",
     "evalue": "unsupported operand type(s) for +: 'Point' and 'Point'",
     "output_type": "error",
     "traceback": [
      "\u001b[1;31m---------------------------------------------------------------------------\u001b[0m",
      "\u001b[1;31mTypeError\u001b[0m                                 Traceback (most recent call last)",
      "\u001b[1;32m<ipython-input-45-728f9a0e507b>\u001b[0m in \u001b[0;36m<module>\u001b[1;34m\u001b[0m\n\u001b[0;32m      7\u001b[0m \u001b[0mp1\u001b[0m \u001b[1;33m=\u001b[0m \u001b[0mPoint\u001b[0m\u001b[1;33m(\u001b[0m\u001b[1;36m2\u001b[0m\u001b[1;33m,\u001b[0m\u001b[1;36m3\u001b[0m\u001b[1;33m)\u001b[0m\u001b[1;33m\u001b[0m\u001b[1;33m\u001b[0m\u001b[0m\n\u001b[0;32m      8\u001b[0m \u001b[0mp2\u001b[0m \u001b[1;33m=\u001b[0m \u001b[0mPoint\u001b[0m\u001b[1;33m(\u001b[0m\u001b[1;33m-\u001b[0m\u001b[1;36m1\u001b[0m\u001b[1;33m,\u001b[0m\u001b[1;36m2\u001b[0m\u001b[1;33m)\u001b[0m\u001b[1;33m\u001b[0m\u001b[1;33m\u001b[0m\u001b[0m\n\u001b[1;32m----> 9\u001b[1;33m \u001b[0mp1\u001b[0m\u001b[1;33m+\u001b[0m\u001b[0mp2\u001b[0m\u001b[1;33m\u001b[0m\u001b[1;33m\u001b[0m\u001b[0m\n\u001b[0m",
      "\u001b[1;31mTypeError\u001b[0m: unsupported operand type(s) for +: 'Point' and 'Point'"
     ]
    }
   ],
   "source": [
    "# Operator Overloading\n",
    "class Point:\n",
    "    def __init__(self, x=0, y=0):\n",
    "        self.x = x\n",
    "        self.y = y\n",
    "        \n",
    "p1 = Point(2,3)\n",
    "p2 = Point(-1,2)\n",
    "p1+p2"
   ]
  },
  {
   "cell_type": "code",
   "execution_count": 51,
   "metadata": {},
   "outputs": [
    {
     "name": "stdout",
     "output_type": "stream",
     "text": [
      "3100\n"
     ]
    }
   ],
   "source": [
    "# Operator Overloading\n",
    "class Point:\n",
    "    def __init__(self, x=0):\n",
    "        self.x = x\n",
    "    def __str__(self):\n",
    "        return f'{self.x}'\n",
    "    def __add__(self,other):\n",
    "        x = self.x + other.x\n",
    "        return Point(x)\n",
    "        \n",
    "p1 = Point(1100)\n",
    "p2 = Point(2000)\n",
    "print(p1+p2)"
   ]
  },
  {
   "cell_type": "code",
   "execution_count": 55,
   "metadata": {},
   "outputs": [
    {
     "name": "stdout",
     "output_type": "stream",
     "text": [
      "6100\n"
     ]
    }
   ],
   "source": [
    "# Operator Overloading\n",
    "class Point:\n",
    "    def __init__(self, x=0):\n",
    "        self.x = x\n",
    "        \n",
    "    def __str__(self):\n",
    "        return str(self.x)\n",
    "    def __add__(self,other):\n",
    "        x = self.x + other.x\n",
    "        return Point(x)\n",
    "        \n",
    "p1 = Point(1100)\n",
    "p2 = Point(2000)\n",
    "p3 = Point(3000)\n",
    "print(p1+p2+p3)"
   ]
  },
  {
   "cell_type": "code",
   "execution_count": 59,
   "metadata": {},
   "outputs": [
    {
     "name": "stdout",
     "output_type": "stream",
     "text": [
      "1100\n",
      "2000\n",
      "3000\n",
      "3100\n",
      "3100\n",
      "6100\n",
      "6100\n",
      "6100\n"
     ]
    }
   ],
   "source": [
    "# Operator Overloading\n",
    "class Point:\n",
    "    def __init__(self, x):\n",
    "        self.x = x\n",
    "        print(x)\n",
    "    def __str__(self):\n",
    "        return str(self.x)\n",
    "    def __add__(self,other):\n",
    "        x = self.x + other.x\n",
    "        print(x)\n",
    "        return Point(x)\n",
    "        \n",
    "p1 = Point(1100)\n",
    "p2 = Point(2000)\n",
    "p3 = Point(3000)\n",
    "print(p1+p2+p3)"
   ]
  },
  {
   "cell_type": "code",
   "execution_count": 2,
   "metadata": {},
   "outputs": [
    {
     "name": "stdout",
     "output_type": "stream",
     "text": [
      "(-1,-2)\n"
     ]
    }
   ],
   "source": [
    "class Point:\n",
    "    def __init__(self,x,y):\n",
    "        self.x = x\n",
    "        self.y = y\n",
    "#         print(x,y)\n",
    "    def __str__(self):\n",
    "        return f'({self.x},{self.y})'\n",
    "    def __sub__(self,other):\n",
    "        x= self.x - other.x\n",
    "        y = self.y - other.y\n",
    "        return Point(x,y)\n",
    "p1 = Point(3,4)\n",
    "p2 = Point(4,6)\n",
    "print(p1-p2)"
   ]
  },
  {
   "cell_type": "code",
   "execution_count": null,
   "metadata": {},
   "outputs": [],
   "source": []
  }
 ],
 "metadata": {
  "kernelspec": {
   "display_name": "Python 3",
   "language": "python",
   "name": "python3"
  },
  "language_info": {
   "codemirror_mode": {
    "name": "ipython",
    "version": 3
   },
   "file_extension": ".py",
   "mimetype": "text/x-python",
   "name": "python",
   "nbconvert_exporter": "python",
   "pygments_lexer": "ipython3",
   "version": "3.8.5"
  }
 },
 "nbformat": 4,
 "nbformat_minor": 4
}

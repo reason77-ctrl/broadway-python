{
 "cells": [
  {
   "cell_type": "code",
   "execution_count": 1,
   "metadata": {},
   "outputs": [
    {
     "name": "stdout",
     "output_type": "stream",
     "text": [
      "[1, 2, 3]\n",
      "['Apple', 'Ball', 'Cat']\n",
      "<class 'list'> <class 'list'>\n"
     ]
    }
   ],
   "source": [
    "a = [1,2,3]\n",
    "b = ['Apple', 'Ball', 'Cat']\n",
    "print(a)\n",
    "print(b)\n",
    "print(type(a), type(b))"
   ]
  },
  {
   "cell_type": "code",
   "execution_count": null,
   "metadata": {},
   "outputs": [],
   "source": [
    "# List\n",
    "# mutable\n",
    "# indexing\n",
    "# ordered\n",
    "# duplicate value"
   ]
  },
  {
   "cell_type": "code",
   "execution_count": 9,
   "metadata": {},
   "outputs": [
    {
     "name": "stdout",
     "output_type": "stream",
     "text": [
      "Cat\n",
      "['Apple', 'Ball']\n",
      "['Apple', 'Cat', 'Fish', 2]\n",
      "C\n",
      "[3, 2, 1, 'Fish', 'Dog', 'Cat', 'Ball']\n",
      "[3, 2, 1, 'Fish', 'Dog', 'Cat', 'Ball', 'Apple']\n"
     ]
    }
   ],
   "source": [
    "b = ['Apple', 'Ball', 'Cat', 'Dog', 'Fish', 1,2,3]\n",
    "print(b[2])\n",
    "print(b[0:2])\n",
    "print(b[0:8:2])\n",
    "print(b[2][0])\n",
    "print(b[8:0:-1])\n",
    "print(b[8::-1])"
   ]
  },
  {
   "cell_type": "code",
   "execution_count": 12,
   "metadata": {},
   "outputs": [
    {
     "name": "stdout",
     "output_type": "stream",
     "text": [
      "['Apple', 'Ball']\n",
      "['Ball', 'Apple']\n",
      "['Apple', 'Apple']\n"
     ]
    }
   ],
   "source": [
    "# ordered list\n",
    "a = ['Apple']\n",
    "b = ['Ball']\n",
    "print(a+b)\n",
    "print(b+a)\n",
    "print(a*2)"
   ]
  },
  {
   "cell_type": "code",
   "execution_count": 13,
   "metadata": {},
   "outputs": [
    {
     "data": {
      "text/plain": [
       "3"
      ]
     },
     "execution_count": 13,
     "metadata": {},
     "output_type": "execute_result"
    }
   ],
   "source": [
    "a = [\"apple\", \"ball\", \"apple\"]\n",
    "len(a)"
   ]
  },
  {
   "cell_type": "code",
   "execution_count": 14,
   "metadata": {},
   "outputs": [
    {
     "name": "stdout",
     "output_type": "stream",
     "text": [
      "['Apple', 'Car', 'Cat', 'Dog', 'Fish', 1, 2, 3]\n"
     ]
    }
   ],
   "source": [
    "b = ['Apple', 'Ball', 'Cat', 'Dog', 'Fish', 1,2,3]\n",
    "b[1] = 'Car'\n",
    "print(b)"
   ]
  },
  {
   "cell_type": "code",
   "execution_count": 15,
   "metadata": {},
   "outputs": [
    {
     "name": "stdout",
     "output_type": "stream",
     "text": [
      "Enter n = 3\n",
      "Enter x = 34\n",
      "Enter x = 45\n",
      "Enter x = 56\n",
      "[34, 45, 56]\n"
     ]
    }
   ],
   "source": [
    "n = int(input(\"Enter n = \"))\n",
    "s =[]\n",
    "for i in range(n):\n",
    "    x = int(input(\"Enter x = \"))\n",
    "    s = s+[x]\n",
    "print(s)    "
   ]
  },
  {
   "cell_type": "code",
   "execution_count": 16,
   "metadata": {},
   "outputs": [
    {
     "name": "stdout",
     "output_type": "stream",
     "text": [
      "Enter n = 3\n",
      "Enter x = dsf\n",
      "Enter x = fg\n",
      "Enter x = hgh\n",
      "['dsf', 'fg', 'hgh']\n"
     ]
    }
   ],
   "source": [
    "n = int(input(\"Enter n = \"))\n",
    "s =[]\n",
    "for i in range(n):\n",
    "    x = input(\"Enter x = \")\n",
    "    s = s+[x]\n",
    "print(s)    "
   ]
  },
  {
   "cell_type": "code",
   "execution_count": 17,
   "metadata": {},
   "outputs": [
    {
     "name": "stdout",
     "output_type": "stream",
     "text": [
      "dsf\n",
      "fg\n",
      "hgh\n"
     ]
    }
   ],
   "source": [
    "for i in s:\n",
    "    print(i)"
   ]
  },
  {
   "cell_type": "code",
   "execution_count": 18,
   "metadata": {},
   "outputs": [
    {
     "name": "stdout",
     "output_type": "stream",
     "text": [
      "Apple\n",
      "Car\n",
      "Cat\n",
      "Dog\n",
      "Fish\n",
      "1\n",
      "2\n",
      "3\n"
     ]
    }
   ],
   "source": [
    "s = ['Apple', 'Car', 'Cat', 'Dog', 'Fish', 1, 2, 3]\n",
    "n = len(s)\n",
    "for i in range(n):\n",
    "    print(s[i])"
   ]
  },
  {
   "cell_type": "code",
   "execution_count": 21,
   "metadata": {},
   "outputs": [
    {
     "name": "stdout",
     "output_type": "stream",
     "text": [
      "yes 2\n"
     ]
    }
   ],
   "source": [
    "s = ['Apple', 'Car', 'Cat', 'Dog', 'Fish', 'Apple', 1, 2, 3]\n",
    "if 'Apple' in s:\n",
    "    print('yes', s.count('Apple'))"
   ]
  },
  {
   "cell_type": "code",
   "execution_count": 13,
   "metadata": {},
   "outputs": [
    {
     "name": "stdout",
     "output_type": "stream",
     "text": [
      "0\n",
      "5\n",
      "[0, 5]\n"
     ]
    }
   ],
   "source": [
    "index = []\n",
    "s = ['Apple', 'Car', 'Cat', 'Dog', 'Fish', 'Apple',]\n",
    "n = len(s)\n",
    "for i in range(n):\n",
    "    if s[i] == 'Apple':\n",
    "        print(i)\n",
    "        index = index + [i]\n",
    "print(index)        "
   ]
  },
  {
   "cell_type": "code",
   "execution_count": 27,
   "metadata": {},
   "outputs": [
    {
     "name": "stdout",
     "output_type": "stream",
     "text": [
      "['Ball']\n"
     ]
    }
   ],
   "source": [
    "# append()\n",
    "a = []\n",
    "b = 'Ball'\n",
    "a.append(b)\n",
    "print(a)"
   ]
  },
  {
   "cell_type": "code",
   "execution_count": 28,
   "metadata": {},
   "outputs": [
    {
     "name": "stdout",
     "output_type": "stream",
     "text": [
      "Enter n = 2\n",
      "Enter x = aa\n",
      "Enter x = vvv\n",
      "['aa', 'vvv']\n"
     ]
    }
   ],
   "source": [
    "n = int(input(\"Enter n = \"))\n",
    "s =[]\n",
    "for i in range(n):\n",
    "    x = input(\"Enter x = \")\n",
    "#     s = s+[x]\n",
    "    s.append(x)\n",
    "print(s) "
   ]
  },
  {
   "cell_type": "code",
   "execution_count": 32,
   "metadata": {},
   "outputs": [
    {
     "name": "stdout",
     "output_type": "stream",
     "text": [
      "Enter n = 5\n",
      "Enter x = 23\n",
      "Enter x = 45\n",
      "Enter x = 56\n",
      "Enter x = 67\n",
      "Enter x = 78\n",
      "The list =  [23, 45, 56, 67, 78]\n",
      "The sum =  269\n",
      "The min =  23\n",
      "The max =  78\n",
      "The avg =  53.8\n"
     ]
    }
   ],
   "source": [
    "n = int(input(\"Enter n = \"))\n",
    "s =[]\n",
    "for i in range(n):\n",
    "    x = int(input(\"Enter x = \"))\n",
    "#     s = s+[x]\n",
    "    s.append(x)\n",
    "print('The list = ',s)\n",
    "print('The sum = ',sum(s))\n",
    "print('The min = ',min(s))   \n",
    "print('The max = ',max(s))\n",
    "print('The avg = ',sum(s)/n)\n",
    "# immutable"
   ]
  },
  {
   "cell_type": "code",
   "execution_count": 33,
   "metadata": {},
   "outputs": [
    {
     "name": "stdout",
     "output_type": "stream",
     "text": [
      "[23, 45, 56, 67, 78]\n"
     ]
    }
   ],
   "source": [
    "s.sort()\n",
    "print(s)\n",
    "# mutable"
   ]
  },
  {
   "cell_type": "code",
   "execution_count": 34,
   "metadata": {},
   "outputs": [
    {
     "name": "stdout",
     "output_type": "stream",
     "text": [
      "[78, 67, 56, 45, 23]\n"
     ]
    }
   ],
   "source": [
    "s.reverse()\n",
    "print(s)"
   ]
  },
  {
   "cell_type": "code",
   "execution_count": 9,
   "metadata": {},
   "outputs": [
    {
     "name": "stdout",
     "output_type": "stream",
     "text": [
      "Enter n = 2\n",
      "Enter Name = Ram\n",
      "Enter phone = 123456\n",
      "Enter Name = Hari\n",
      "Enter phone = 654321\n",
      "['Ram--123456', 'Hari--654321']\n"
     ]
    }
   ],
   "source": [
    "s = ''\n",
    "n = int(input('Enter n = '))\n",
    "for i in range(n):\n",
    "    name = input(\"Enter Name = \")\n",
    "    phone = int(input(\"Enter phone = \"))\n",
    "    info = f'{name}--{phone}\\n'\n",
    "    s += info\n",
    "data = s.split('\\n')[0:-1]   \n",
    "print(data)    "
   ]
  },
  {
   "cell_type": "code",
   "execution_count": 39,
   "metadata": {},
   "outputs": [
    {
     "name": "stdout",
     "output_type": "stream",
     "text": [
      "['sad--234324']\n"
     ]
    }
   ],
   "source": [
    "data1 = data[0:-1]\n",
    "print(data1)"
   ]
  },
  {
   "cell_type": "code",
   "execution_count": 44,
   "metadata": {},
   "outputs": [
    {
     "name": "stdout",
     "output_type": "stream",
     "text": [
      "Enter roll = 1\n",
      "sad--234324\n"
     ]
    }
   ],
   "source": [
    "index = int(input('Enter roll = '))\n",
    "print(data[index-1])\n"
   ]
  },
  {
   "cell_type": "code",
   "execution_count": 15,
   "metadata": {},
   "outputs": [
    {
     "name": "stdout",
     "output_type": "stream",
     "text": [
      "['Dog']\n"
     ]
    }
   ],
   "source": [
    "# delete (del, remove, pop)\n",
    "a = ['Apple', 'Ball', 'Cat', 'Dog',]\n",
    "# del a[0]\n",
    "del a[0:3]\n",
    "print(a)"
   ]
  },
  {
   "cell_type": "code",
   "execution_count": 16,
   "metadata": {},
   "outputs": [
    {
     "name": "stdout",
     "output_type": "stream",
     "text": [
      "['Ball', 'Cat', 'Dog']\n"
     ]
    }
   ],
   "source": [
    "a = ['Apple', 'Ball', 'Cat', 'Dog',]\n",
    "a.remove('Apple')\n",
    "print(a)"
   ]
  },
  {
   "cell_type": "code",
   "execution_count": 17,
   "metadata": {},
   "outputs": [
    {
     "name": "stdout",
     "output_type": "stream",
     "text": [
      "['Ball', 'Cat', 'Dog']\n"
     ]
    }
   ],
   "source": [
    "a = ['Apple', 'Ball', 'Cat', 'Dog','Apple']\n",
    "for i in a:\n",
    "    if i == 'Apple':\n",
    "        a.remove('Apple')\n",
    "print(a)        \n"
   ]
  },
  {
   "cell_type": "code",
   "execution_count": 18,
   "metadata": {},
   "outputs": [
    {
     "name": "stdout",
     "output_type": "stream",
     "text": [
      "Ball\n",
      "['Apple', 'Cat', 'Dog', 'Apple']\n"
     ]
    }
   ],
   "source": [
    "a = ['Apple', 'Ball', 'Cat', 'Dog','Apple']\n",
    "b = a.pop(1)\n",
    "print(b)\n",
    "print(a)\n"
   ]
  },
  {
   "cell_type": "code",
   "execution_count": 4,
   "metadata": {},
   "outputs": [
    {
     "data": {
      "text/plain": [
       "'Ball'"
      ]
     },
     "execution_count": 4,
     "metadata": {},
     "output_type": "execute_result"
    }
   ],
   "source": [
    "a = ['Apple', 'Ball', 'Cat', 'Dog','Apple']\n",
    "b = a.pop(1)\n",
    "b\n"
   ]
  },
  {
   "cell_type": "code",
   "execution_count": 8,
   "metadata": {},
   "outputs": [
    {
     "name": "stdout",
     "output_type": "stream",
     "text": [
      "['Ball', 'Cat', 'Dog', 'Apple', 'Fish']\n"
     ]
    }
   ],
   "source": [
    "a = ['Apple', 'Ball', 'Cat', 'Dog','Apple','Fish']\n",
    "n = a.count('Apple')\n",
    "for i in range(n):\n",
    "    if a[i] == 'Apple':\n",
    "        a.remove('Apple')\n",
    "print(a)        \n"
   ]
  },
  {
   "cell_type": "code",
   "execution_count": 20,
   "metadata": {},
   "outputs": [
    {
     "name": "stdout",
     "output_type": "stream",
     "text": [
      "[1, 2, 3, 'Dog', 'Apple']\n"
     ]
    }
   ],
   "source": [
    "a = ['Apple', 'Ball', 'Cat', 'Dog','Apple']\n",
    "a[0:3] = [1,2,3]\n",
    "print(a)"
   ]
  },
  {
   "cell_type": "code",
   "execution_count": 21,
   "metadata": {},
   "outputs": [
    {
     "name": "stdout",
     "output_type": "stream",
     "text": [
      "['Ant', 'Apple', 'Ball', 'Cat', 'Dog', 'Apple']\n"
     ]
    }
   ],
   "source": [
    "a = ['Apple', 'Ball', 'Cat', 'Dog','Apple']\n",
    "a.insert(0,'Ant')\n",
    "print(a)\n"
   ]
  },
  {
   "cell_type": "code",
   "execution_count": 24,
   "metadata": {},
   "outputs": [
    {
     "ename": "TypeError",
     "evalue": "object of type 'int' has no len()",
     "output_type": "error",
     "traceback": [
      "\u001b[1;31m---------------------------------------------------------------------------\u001b[0m",
      "\u001b[1;31mTypeError\u001b[0m                                 Traceback (most recent call last)",
      "\u001b[1;32m<ipython-input-24-ce72c5e2f9f8>\u001b[0m in \u001b[0;36m<module>\u001b[1;34m\u001b[0m\n\u001b[0;32m      1\u001b[0m \u001b[0ma\u001b[0m \u001b[1;33m=\u001b[0m \u001b[1;33m[\u001b[0m\u001b[1;34m'Apple'\u001b[0m\u001b[1;33m,\u001b[0m \u001b[1;34m'Ball'\u001b[0m\u001b[1;33m,\u001b[0m \u001b[1;34m'Cat'\u001b[0m\u001b[1;33m,\u001b[0m \u001b[1;34m'Dog'\u001b[0m\u001b[1;33m,\u001b[0m\u001b[1;34m'Apple'\u001b[0m\u001b[1;33m,\u001b[0m\u001b[1;34m'Fish'\u001b[0m\u001b[1;33m,\u001b[0m \u001b[1;34m'Apple'\u001b[0m\u001b[1;33m,\u001b[0m\u001b[1;34m'Apple'\u001b[0m\u001b[1;33m]\u001b[0m\u001b[1;33m\u001b[0m\u001b[1;33m\u001b[0m\u001b[0m\n\u001b[0;32m      2\u001b[0m \u001b[0mn\u001b[0m \u001b[1;33m=\u001b[0m \u001b[0ma\u001b[0m\u001b[1;33m.\u001b[0m\u001b[0mcount\u001b[0m\u001b[1;33m(\u001b[0m\u001b[1;34m'Apple'\u001b[0m\u001b[1;33m)\u001b[0m\u001b[1;33m\u001b[0m\u001b[1;33m\u001b[0m\u001b[0m\n\u001b[1;32m----> 3\u001b[1;33m \u001b[1;32mfor\u001b[0m \u001b[0mi\u001b[0m \u001b[1;32min\u001b[0m \u001b[0mrange\u001b[0m\u001b[1;33m(\u001b[0m\u001b[0mlen\u001b[0m\u001b[1;33m(\u001b[0m\u001b[0mn\u001b[0m\u001b[1;33m)\u001b[0m\u001b[1;33m)\u001b[0m\u001b[1;33m:\u001b[0m\u001b[1;33m\u001b[0m\u001b[1;33m\u001b[0m\u001b[0m\n\u001b[0m\u001b[0;32m      4\u001b[0m     \u001b[1;32mif\u001b[0m \u001b[0ma\u001b[0m\u001b[1;33m[\u001b[0m\u001b[0mi\u001b[0m\u001b[1;33m]\u001b[0m \u001b[1;33m==\u001b[0m \u001b[1;34m'Apple'\u001b[0m\u001b[1;33m:\u001b[0m\u001b[1;33m\u001b[0m\u001b[1;33m\u001b[0m\u001b[0m\n\u001b[0;32m      5\u001b[0m         \u001b[0ma\u001b[0m\u001b[1;33m.\u001b[0m\u001b[0mremove\u001b[0m\u001b[1;33m(\u001b[0m\u001b[1;34m'Apple'\u001b[0m\u001b[1;33m)\u001b[0m\u001b[1;33m\u001b[0m\u001b[1;33m\u001b[0m\u001b[0m\n",
      "\u001b[1;31mTypeError\u001b[0m: object of type 'int' has no len()"
     ]
    }
   ],
   "source": [
    "a = ['Apple', 'Ball', 'Cat', 'Dog','Apple','Fish', 'Apple','Apple']\n",
    "n = a.count('Apple')\n",
    "for i in range(5):\n",
    "    if a[i] == 'Apple':\n",
    "        a.remove('Apple')\n",
    "print(a)      \n"
   ]
  }
 ],
 "metadata": {
  "kernelspec": {
   "display_name": "Python 3",
   "language": "python",
   "name": "python3"
  },
  "language_info": {
   "codemirror_mode": {
    "name": "ipython",
    "version": 3
   },
   "file_extension": ".py",
   "mimetype": "text/x-python",
   "name": "python",
   "nbconvert_exporter": "python",
   "pygments_lexer": "ipython3",
   "version": "3.8.5"
  }
 },
 "nbformat": 4,
 "nbformat_minor": 4
}
